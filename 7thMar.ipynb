{
 "cells": [
  {
   "cell_type": "markdown",
   "id": "3f096d89-900d-4734-8b18-9b9fb9699a80",
   "metadata": {},
   "source": [
    "## Ans 1)"
   ]
  },
  {
   "cell_type": "code",
   "execution_count": 1,
   "id": "343fc79d-2236-479f-9616-3d1230b6de20",
   "metadata": {},
   "outputs": [],
   "source": [
    "# Mean, Median and Mode are three measures of central tendency"
   ]
  },
  {
   "cell_type": "markdown",
   "id": "3d31275c-28e7-404d-b796-c7d766f4478e",
   "metadata": {},
   "source": [
    "## Ans 2)"
   ]
  },
  {
   "cell_type": "code",
   "execution_count": 2,
   "id": "e219a58c-83d7-4674-8dd2-87871f57442c",
   "metadata": {},
   "outputs": [],
   "source": [
    "# Mean: The average value of a dataset, calculated by summing all values and dividing by the number of values.\n",
    "\n",
    "# Median: The middle value of a dataset when arranged in ascending or descending order.\n",
    "\n",
    "# Mode: The value that appears most frequently in a dataset.\n",
    "\n",
    "#  summary, the mean, median, and mode are used to measure the central tendency of a dataset,\n",
    "# but the choice of which measure to use depends on the characteristics of the data and the presence of \n",
    "# outliers or skewed distributions."
   ]
  },
  {
   "cell_type": "markdown",
   "id": "c6b9ab76-895a-4dac-8ad4-ca96a8bfb06b",
   "metadata": {},
   "source": [
    "## Ans 3)"
   ]
  },
  {
   "cell_type": "code",
   "execution_count": 7,
   "id": "1a5729c4-7a31-4180-8ae1-99602c5f31ac",
   "metadata": {},
   "outputs": [],
   "source": [
    "import numpy as np\n",
    "lis = np.array([178,177,176,177,178.2,178,175,179,180,175,178.9,176.2,177,172.5,178,176.5])"
   ]
  },
  {
   "cell_type": "code",
   "execution_count": 11,
   "id": "f10f6e1c-6c47-4bb7-a934-7f0f750be30a",
   "metadata": {},
   "outputs": [
    {
     "data": {
      "text/plain": [
       "177.01875"
      ]
     },
     "execution_count": 11,
     "metadata": {},
     "output_type": "execute_result"
    }
   ],
   "source": [
    "np.mean(lis)\n"
   ]
  },
  {
   "cell_type": "code",
   "execution_count": 12,
   "id": "a264813a-9a04-4789-aabb-fa7ccf566f96",
   "metadata": {},
   "outputs": [
    {
     "data": {
      "text/plain": [
       "177.0"
      ]
     },
     "execution_count": 12,
     "metadata": {},
     "output_type": "execute_result"
    }
   ],
   "source": [
    "np.median(lis)"
   ]
  },
  {
   "cell_type": "code",
   "execution_count": 13,
   "id": "22cb6a37-acca-4c28-a9aa-b43cc2306e50",
   "metadata": {},
   "outputs": [
    {
     "data": {
      "text/plain": [
       "178"
      ]
     },
     "execution_count": 13,
     "metadata": {},
     "output_type": "execute_result"
    }
   ],
   "source": [
    "np.bincount(lis.astype(int)).argmax()"
   ]
  },
  {
   "cell_type": "markdown",
   "id": "f83914a7-a930-4a00-a325-37408c121799",
   "metadata": {},
   "source": [
    "## Ans 4)"
   ]
  },
  {
   "cell_type": "code",
   "execution_count": 14,
   "id": "415d372d-93fe-408b-8491-07937bbd096a",
   "metadata": {},
   "outputs": [],
   "source": [
    "lis = np.array([178,177,176,177,178.2,178,175,179,180,175,178.9,176.2,177,172.5,178,176.5])"
   ]
  },
  {
   "cell_type": "code",
   "execution_count": 15,
   "id": "3a8f9874-0ab9-40f4-b9de-ff73088a4acb",
   "metadata": {},
   "outputs": [
    {
     "data": {
      "text/plain": [
       "1.7885814036548633"
      ]
     },
     "execution_count": 15,
     "metadata": {},
     "output_type": "execute_result"
    }
   ],
   "source": [
    "np.std(lis)"
   ]
  },
  {
   "cell_type": "markdown",
   "id": "f46e97a4-4611-4c53-b4ca-b886e0a0908f",
   "metadata": {},
   "source": [
    "## Ans 5)\n"
   ]
  },
  {
   "cell_type": "code",
   "execution_count": 16,
   "id": "0a0b8eff-8fb5-4787-9abb-593579eb23eb",
   "metadata": {},
   "outputs": [],
   "source": [
    "# 1. Range: The range measures the spread of a dataset by calculating the difference between the maximum and minimum values.\n",
    "\n",
    "# Example: For the dataset [10, 20, 15, 25, 12], the range is 25 (maximum value) - 10 (minimum value) = 15.\n",
    "\n",
    "# 2. Variance: The variance measures the average squared deviation of each data point from the mean.\n",
    "\n",
    "# Example: For the dataset [10, 20, 15, 25, 12], if the mean is 16.4, the variance is approximately 26.96.\n",
    "\n",
    "# 3. Standard Deviation: The standard deviation is the square root of the variance and indicates the typical distance between each data point and the mean.\n",
    "\n",
    "# Example: If the variance of the dataset [10, 20, 15, 25, 12] is 26.96, the standard deviation is approximately 5.18."
   ]
  },
  {
   "cell_type": "markdown",
   "id": "39c50696-5aca-4152-8bbc-63c52318c7fb",
   "metadata": {},
   "source": [
    "## Ans 6)"
   ]
  },
  {
   "cell_type": "code",
   "execution_count": 17,
   "id": "5f44e37a-1827-4104-ace5-2c40fc246da2",
   "metadata": {},
   "outputs": [],
   "source": [
    "# A Venn diagram is a visual representation of the relationships between different sets. \n",
    "# It uses overlapping circles or ellipses to show the common elements and unique elements of each set. "
   ]
  },
  {
   "cell_type": "markdown",
   "id": "0f6b50fe-a8fb-4db7-963a-429b2689f767",
   "metadata": {},
   "source": [
    "## Ans 7)"
   ]
  },
  {
   "cell_type": "code",
   "execution_count": null,
   "id": "86049b51-422d-4b3d-8498-fc2c490d86cd",
   "metadata": {},
   "outputs": [],
   "source": [
    "# A ∩ B (Intersection):\n",
    "# The intersection of two sets A and B includes all the elements that are present in both sets. In this case:\n",
    "A = {2, 3, 4, 5, 6, 7}\n",
    "B = {0, 2, 6, 8, 10}\n",
    "\n",
    "# A ⋃ B (Union):\n",
    "# The union of two sets A and B includes all the unique elements from both sets, without any repetition. In this case:\n",
    "A = {2, 3, 4, 5, 6, 7}\n",
    "B = {0, 2, 6, 8, 10}"
   ]
  },
  {
   "cell_type": "markdown",
   "id": "21b7f8fa-e225-4352-998d-a5a9f0be1c37",
   "metadata": {},
   "source": [
    "## Ans 8)"
   ]
  },
  {
   "cell_type": "code",
   "execution_count": 18,
   "id": "e2394196-bb67-408e-a2f9-345ea5f6614c",
   "metadata": {},
   "outputs": [],
   "source": [
    "# Positive Skewness: If the data is skewed to the right, \n",
    "# it means that the right tail of the distribution is longer, and the majority of data points are concentrated on the left side.\n",
    "\n",
    "# Negative Skewness: If the data is skewed to the left, it means that the left tail of the distribution is longer,\n",
    "# and the majority of data points are concentrated on the right side.\n",
    "\n",
    "# Symmetric Distribution: If the data is symmetric, it means that the distribution is balanced, \n",
    "# and the data is evenly spread on both sides."
   ]
  },
  {
   "cell_type": "markdown",
   "id": "2579ab85-bef0-480f-ae37-da681698448f",
   "metadata": {},
   "source": [
    "## Ans 9)\n"
   ]
  },
  {
   "cell_type": "code",
   "execution_count": 19,
   "id": "de8b3ec1-bc55-4dd2-a689-36b813758b80",
   "metadata": {},
   "outputs": [],
   "source": [
    "# In a right-skewed distribution:\n",
    "\n",
    "# Mean > Median"
   ]
  },
  {
   "cell_type": "markdown",
   "id": "9cf40d12-dc94-471d-b380-6207eb89c670",
   "metadata": {},
   "source": [
    "## Ans 10)\n"
   ]
  },
  {
   "cell_type": "code",
   "execution_count": 20,
   "id": "a9010761-08d0-4f98-a586-d533732c3a2e",
   "metadata": {},
   "outputs": [],
   "source": [
    "# Covariance measures the degree to which two variables change together, \n",
    "# while correlation measures both the strength and direction of the linear relationship between two variables. \n",
    "# Correlation is preferred over covariance because it is standardized and easier to interpret and compare across different datasets. \n",
    "# They are used in statistical analysis to understand the relationship between variables, identify associations, and assess model performance."
   ]
  },
  {
   "cell_type": "markdown",
   "id": "dbe2f389-1c4f-4165-b459-21bddc578889",
   "metadata": {},
   "source": [
    "## Ans 11)"
   ]
  },
  {
   "cell_type": "code",
   "execution_count": null,
   "id": "d7f0fd4c-52b3-4299-b95d-0da8aaccc880",
   "metadata": {},
   "outputs": [],
   "source": [
    "# Sample Mean = (Sum of all data points) / (Number of data points)\n",
    "# we have the following dataset: [10, 15, 20, 25, 30]\n",
    "\n",
    "# To calculate the sample mean:\n",
    "Sample Mean = (10 + 15 + 20 + 25 + 30) / 5\n",
    "Sample Mean = 100 / 5\n",
    "Sample Mean = 20"
   ]
  },
  {
   "cell_type": "markdown",
   "id": "98955743-d777-4958-8bbd-98fc8bed17a5",
   "metadata": {},
   "source": [
    "## Ans 12)"
   ]
  },
  {
   "cell_type": "code",
   "execution_count": 21,
   "id": "a7e451b3-9b7e-472b-ab8a-af61336123d7",
   "metadata": {},
   "outputs": [],
   "source": [
    "# For a normal distribution, the three measures of central tendency (mean, median, and mode) are all equal.\n",
    "# In other words, they have the same value."
   ]
  },
  {
   "cell_type": "markdown",
   "id": "4f6d8f1d-bfdc-479c-be30-e0cff12982c6",
   "metadata": {},
   "source": [
    "## Ans 13)"
   ]
  },
  {
   "cell_type": "code",
   "execution_count": 22,
   "id": "4e25e699-a7aa-4599-a31a-a11ac08a01bd",
   "metadata": {},
   "outputs": [],
   "source": [
    "# Covariance measures the degree to which two variables change together, \n",
    "# while correlation measures both the strength and direction of the linear relationship between two variables. \n",
    "# Covariance is not standardized, while correlation is always between -1 and 1 and is unitless,\n",
    "# making it easier to interpret and compare across different datasets."
   ]
  },
  {
   "cell_type": "markdown",
   "id": "801efc2e-3fc8-4077-905e-6e106ec0edfd",
   "metadata": {},
   "source": [
    "## Ans 14)"
   ]
  },
  {
   "cell_type": "code",
   "execution_count": null,
   "id": "da032a23-b369-4cee-8ae3-d3557f537e37",
   "metadata": {},
   "outputs": [],
   "source": [
    "# Outliers can pull the mean towards their extreme values, while the median is less affected. \n",
    "# Outliers can significantly impact the range, variance, and standard deviation, increasing their values and indicating higher variability in the dataset."
   ]
  }
 ],
 "metadata": {
  "kernelspec": {
   "display_name": "Python 3 (ipykernel)",
   "language": "python",
   "name": "python3"
  },
  "language_info": {
   "codemirror_mode": {
    "name": "ipython",
    "version": 3
   },
   "file_extension": ".py",
   "mimetype": "text/x-python",
   "name": "python",
   "nbconvert_exporter": "python",
   "pygments_lexer": "ipython3",
   "version": "3.10.8"
  }
 },
 "nbformat": 4,
 "nbformat_minor": 5
}
