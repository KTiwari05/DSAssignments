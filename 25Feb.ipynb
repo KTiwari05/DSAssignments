{
 "cells": [
  {
   "cell_type": "code",
   "execution_count": 4,
   "id": "663f121d-1e40-4e13-8a4d-ad7440d3eeca",
   "metadata": {},
   "outputs": [],
   "source": [
    "import pandas as pd\n",
    "course_name = ['Data Science', 'Machine Learning', 'Big Data', 'Data Engineer']\n",
    "duration = [2,3,6,4]\n",
    "df = pd.DataFrame(data = {'course_name' : course_name, 'duration' : duration})"
   ]
  },
  {
   "cell_type": "markdown",
   "id": "a5bf7e0a-b351-402b-aa22-95852a699f34",
   "metadata": {},
   "source": [
    "## Ans 1)"
   ]
  },
  {
   "cell_type": "code",
   "execution_count": 10,
   "id": "7936bd74-f99b-41df-8ef3-26211f2279c1",
   "metadata": {},
   "outputs": [
    {
     "name": "stdout",
     "output_type": "stream",
     "text": [
      "course_name    Machine Learning\n",
      "duration                      3\n",
      "Name: 1, dtype: object\n"
     ]
    }
   ],
   "source": [
    "second_row = df.iloc[1]\n",
    "print(second_row)"
   ]
  },
  {
   "cell_type": "markdown",
   "id": "f8d3c1a6-4e15-40b0-b73b-6d1f2c79aad8",
   "metadata": {},
   "source": [
    "## Ans2)"
   ]
  },
  {
   "cell_type": "code",
   "execution_count": 11,
   "id": "06953831-b767-4ebb-9fc2-e96b57406e9b",
   "metadata": {},
   "outputs": [],
   "source": [
    "# loc is primarily label-based, which means it uses row and column labels to access data. \n",
    "# iloc is primarily integer-based, which means it uses integer positions to access data. "
   ]
  },
  {
   "cell_type": "markdown",
   "id": "6ad9a995-fadf-44f4-881e-2fa21f6b9d24",
   "metadata": {},
   "source": [
    "## Ans3)"
   ]
  },
  {
   "cell_type": "code",
   "execution_count": 12,
   "id": "ad113f32-c6cb-49dd-a74d-9bdb2746b2c2",
   "metadata": {},
   "outputs": [],
   "source": [
    "new_df = df.reindex([3,0,1,2])"
   ]
  },
  {
   "cell_type": "code",
   "execution_count": 13,
   "id": "ca5a16fc-7152-4be7-8634-957aa9734e87",
   "metadata": {},
   "outputs": [
    {
     "data": {
      "text/plain": [
       "course_name    Big Data\n",
       "duration              6\n",
       "Name: 2, dtype: object"
      ]
     },
     "execution_count": 13,
     "metadata": {},
     "output_type": "execute_result"
    }
   ],
   "source": [
    "new_df.loc[2]"
   ]
  },
  {
   "cell_type": "code",
   "execution_count": 14,
   "id": "ddeb0eb1-47f8-41b7-9d67-b7afc00292a7",
   "metadata": {},
   "outputs": [
    {
     "data": {
      "text/plain": [
       "course_name    Machine Learning\n",
       "duration                      3\n",
       "Name: 1, dtype: object"
      ]
     },
     "execution_count": 14,
     "metadata": {},
     "output_type": "execute_result"
    }
   ],
   "source": [
    "new_df.iloc[2]"
   ]
  },
  {
   "cell_type": "code",
   "execution_count": 16,
   "id": "5b3605c5-6ee1-4636-a7e4-a19e7fee8b48",
   "metadata": {},
   "outputs": [],
   "source": [
    "# The difference is loc choose the \"index name\" to get the row details, However iloc choose the index position given input and give output"
   ]
  },
  {
   "cell_type": "markdown",
   "id": "d58399b4-0b87-490b-b327-349215350978",
   "metadata": {},
   "source": [
    "## Ans 4)"
   ]
  },
  {
   "cell_type": "code",
   "execution_count": 17,
   "id": "e8a37f9b-df30-4661-a706-e9ac766b77e0",
   "metadata": {},
   "outputs": [],
   "source": [
    "import pandas as pd\n",
    "import numpy as np\n",
    "columns = ['column_1', 'column_2', 'column_3', 'column_4', 'column_5', 'column_6']\n",
    "indices = [1,2,3,4,5,6]\n",
    "#Creating a dataframe:\n",
    "df1 = pd.DataFrame(np.random.rand(6,6), columns = columns, index = indices)"
   ]
  },
  {
   "cell_type": "code",
   "execution_count": 18,
   "id": "ea611b72-60f9-4171-93e2-d9b3390fd4b6",
   "metadata": {},
   "outputs": [
    {
     "data": {
      "text/html": [
       "<div>\n",
       "<style scoped>\n",
       "    .dataframe tbody tr th:only-of-type {\n",
       "        vertical-align: middle;\n",
       "    }\n",
       "\n",
       "    .dataframe tbody tr th {\n",
       "        vertical-align: top;\n",
       "    }\n",
       "\n",
       "    .dataframe thead th {\n",
       "        text-align: right;\n",
       "    }\n",
       "</style>\n",
       "<table border=\"1\" class=\"dataframe\">\n",
       "  <thead>\n",
       "    <tr style=\"text-align: right;\">\n",
       "      <th></th>\n",
       "      <th>column_1</th>\n",
       "      <th>column_2</th>\n",
       "      <th>column_3</th>\n",
       "      <th>column_4</th>\n",
       "      <th>column_5</th>\n",
       "      <th>column_6</th>\n",
       "    </tr>\n",
       "  </thead>\n",
       "  <tbody>\n",
       "    <tr>\n",
       "      <th>1</th>\n",
       "      <td>0.187309</td>\n",
       "      <td>0.694102</td>\n",
       "      <td>0.035054</td>\n",
       "      <td>0.390344</td>\n",
       "      <td>0.640750</td>\n",
       "      <td>0.768146</td>\n",
       "    </tr>\n",
       "    <tr>\n",
       "      <th>2</th>\n",
       "      <td>0.560893</td>\n",
       "      <td>0.664764</td>\n",
       "      <td>0.453482</td>\n",
       "      <td>0.181551</td>\n",
       "      <td>0.755857</td>\n",
       "      <td>0.968604</td>\n",
       "    </tr>\n",
       "    <tr>\n",
       "      <th>3</th>\n",
       "      <td>0.226417</td>\n",
       "      <td>0.531330</td>\n",
       "      <td>0.750842</td>\n",
       "      <td>0.979968</td>\n",
       "      <td>0.189521</td>\n",
       "      <td>0.141723</td>\n",
       "    </tr>\n",
       "    <tr>\n",
       "      <th>4</th>\n",
       "      <td>0.016802</td>\n",
       "      <td>0.108212</td>\n",
       "      <td>0.981549</td>\n",
       "      <td>0.678395</td>\n",
       "      <td>0.594916</td>\n",
       "      <td>0.376201</td>\n",
       "    </tr>\n",
       "    <tr>\n",
       "      <th>5</th>\n",
       "      <td>0.261598</td>\n",
       "      <td>0.470289</td>\n",
       "      <td>0.478121</td>\n",
       "      <td>0.361445</td>\n",
       "      <td>0.748102</td>\n",
       "      <td>0.840945</td>\n",
       "    </tr>\n",
       "    <tr>\n",
       "      <th>6</th>\n",
       "      <td>0.862726</td>\n",
       "      <td>0.489979</td>\n",
       "      <td>0.826413</td>\n",
       "      <td>0.528852</td>\n",
       "      <td>0.609854</td>\n",
       "      <td>0.360202</td>\n",
       "    </tr>\n",
       "  </tbody>\n",
       "</table>\n",
       "</div>"
      ],
      "text/plain": [
       "   column_1  column_2  column_3  column_4  column_5  column_6\n",
       "1  0.187309  0.694102  0.035054  0.390344  0.640750  0.768146\n",
       "2  0.560893  0.664764  0.453482  0.181551  0.755857  0.968604\n",
       "3  0.226417  0.531330  0.750842  0.979968  0.189521  0.141723\n",
       "4  0.016802  0.108212  0.981549  0.678395  0.594916  0.376201\n",
       "5  0.261598  0.470289  0.478121  0.361445  0.748102  0.840945\n",
       "6  0.862726  0.489979  0.826413  0.528852  0.609854  0.360202"
      ]
     },
     "execution_count": 18,
     "metadata": {},
     "output_type": "execute_result"
    }
   ],
   "source": [
    "df1"
   ]
  },
  {
   "cell_type": "code",
   "execution_count": 19,
   "id": "4dc5bfd9-02cf-42cf-af91-9a63bbc154a7",
   "metadata": {},
   "outputs": [
    {
     "data": {
      "text/plain": [
       "column_1    0.352624\n",
       "column_2    0.493113\n",
       "column_3    0.587577\n",
       "column_4    0.520092\n",
       "column_5    0.589833\n",
       "column_6    0.575970\n",
       "dtype: float64"
      ]
     },
     "execution_count": 19,
     "metadata": {},
     "output_type": "execute_result"
    }
   ],
   "source": [
    "df1.mean()"
   ]
  },
  {
   "cell_type": "code",
   "execution_count": 24,
   "id": "7a49815f-6d54-4295-af0b-977ca18cc948",
   "metadata": {},
   "outputs": [
    {
     "data": {
      "text/plain": [
       "0.20976192181349396"
      ]
     },
     "execution_count": 24,
     "metadata": {},
     "output_type": "execute_result"
    }
   ],
   "source": [
    "df1['column_2'].std()"
   ]
  },
  {
   "cell_type": "markdown",
   "id": "1f91bc55-234b-4c20-8232-77e2ffaf26b5",
   "metadata": {},
   "source": [
    "## Ans5)"
   ]
  },
  {
   "cell_type": "code",
   "execution_count": null,
   "id": "15136098-1d0f-4abb-8434-0cc850cd56b2",
   "metadata": {},
   "outputs": [],
   "source": [
    "df1.loc[2, 'column_2'] = 'string'\n",
    "\n",
    "column_2_mean = df1['column_2'].mean()\n",
    "print(column_2_mean)"
   ]
  },
  {
   "cell_type": "code",
   "execution_count": 26,
   "id": "659a9ffc-154f-4426-a62c-3b593177f78e",
   "metadata": {},
   "outputs": [],
   "source": [
    "# However, if you execute this code, you will encounter an error because the column 'column_2' contains a mix of numeric values and a string value.\n",
    "# Pandas will infer the column's data type as object due to the presence of the string value. Consequently, \n",
    "# when calculating the mean using df1['column_2'].mean(), it will throw an error because the mean cannot be calculated for a column \n",
    "# containing both numeric and non-numeric values."
   ]
  },
  {
   "cell_type": "markdown",
   "id": "1bca5d3a-7391-484d-b14e-ae2b09828d13",
   "metadata": {},
   "source": [
    "## Ans6)"
   ]
  },
  {
   "cell_type": "code",
   "execution_count": 27,
   "id": "6c2da61d-cd0b-45ce-99d0-0bf341a5a123",
   "metadata": {},
   "outputs": [],
   "source": [
    "# Rolling Window Functions:\n",
    "\n",
    "# Rolling mean (rolling().mean()): Calculates the mean of values within a specified window.\n",
    "# Rolling sum (rolling().sum()): Calculates the sum of values within a specified window.\n",
    "\n",
    "#Expanding Window Functions:\n",
    "\n",
    "# Expanding mean (expanding().mean()): Calculates the mean of values from the start to the current index.\n",
    "# Expanding sum (expanding().sum()): Calculates the sum of values from the start to the current index."
   ]
  },
  {
   "cell_type": "markdown",
   "id": "124e32ad-811d-4d82-a815-8e85dd7982c0",
   "metadata": {},
   "source": [
    "## Ans7)"
   ]
  },
  {
   "cell_type": "code",
   "execution_count": 29,
   "id": "0f94edfc-d463-4e02-ab3e-a862c76b94da",
   "metadata": {},
   "outputs": [
    {
     "name": "stdout",
     "output_type": "stream",
     "text": [
      "Current month: July\n",
      "Current year: 2023\n"
     ]
    }
   ],
   "source": [
    "\n",
    "current_date = datetime.now()\n",
    "current_month = current_date.strftime('%B')\n",
    "current_year = current_date.year\n",
    "\n",
    "print(f\"Current month: {current_month}\")\n",
    "print(f\"Current year: {current_year}\")\n"
   ]
  },
  {
   "cell_type": "markdown",
   "id": "209e35f6-2efc-4815-b604-b3e940ec1531",
   "metadata": {},
   "source": [
    "## Ans8)"
   ]
  },
  {
   "cell_type": "code",
   "execution_count": 30,
   "id": "3bafbb43-a993-4f47-844e-e290d2b2b823",
   "metadata": {},
   "outputs": [
    {
     "name": "stdin",
     "output_type": "stream",
     "text": [
      "Enter the first date (YYYY-MM-DD):  2023-05-23\n",
      "Enter the second date (YYYY-MM-DD):  2022-05-27\n"
     ]
    },
    {
     "name": "stdout",
     "output_type": "stream",
     "text": [
      "Difference: -361 days, 0 hours, 0 minutes\n"
     ]
    }
   ],
   "source": [
    "date1 = input(\"Enter the first date (YYYY-MM-DD): \")\n",
    "date2 = input(\"Enter the second date (YYYY-MM-DD): \")\n",
    "\n",
    "date1 = pd.to_datetime(date1)\n",
    "date2 = pd.to_datetime(date2)\n",
    "\n",
    "time_diff = date2 - date1\n",
    "\n",
    "days = time_diff.days\n",
    "hours = time_diff.seconds // 3600\n",
    "minutes = (time_diff.seconds % 3600) // 60\n",
    "\n",
    "print(f\"Difference: {days} days, {hours} hours, {minutes} minutes\")\n"
   ]
  },
  {
   "cell_type": "markdown",
   "id": "20872612-a1e2-40ea-8e14-ff84bd9528fa",
   "metadata": {},
   "source": [
    "## Ans9)"
   ]
  },
  {
   "cell_type": "code",
   "execution_count": null,
   "id": "786ec3ce-265f-4262-baa1-ec3c80a9b240",
   "metadata": {},
   "outputs": [],
   "source": [
    "file_path = input(\"Enter the CSV file path: \")\n",
    "\n",
    "\n",
    "data = pd.read_csv(file_path)\n",
    "\n",
    "column_name = input(\"Enter the column name: \")\n",
    "data[column_name] = pd.Categorical(data[column_name])\n",
    "\n",
    "\n",
    "category_order = input(\"Enter the category order (comma-separated values): \").split(',')\n",
    "\n",
    "data[column_name] = data[column_name].cat.set_categories(category_order)\n",
    "\n",
    "sorted_data = data.sort_values(by=column_name)\n",
    "\n",
    "print(sorted_data)\n"
   ]
  },
  {
   "cell_type": "markdown",
   "id": "35323fb6-d75f-4156-8eaa-c202c8181491",
   "metadata": {},
   "source": [
    "## Ans10)\n"
   ]
  },
  {
   "cell_type": "code",
   "execution_count": null,
   "id": "350ee43b-dbb6-4298-bea1-559ce6eb757b",
   "metadata": {},
   "outputs": [],
   "source": [
    "import pandas as pd\n",
    "import matplotlib.pyplot as plt\n",
    "\n",
    "file_path = input(\"Enter the file path: \")\n",
    "\n",
    "df = pd.read_csv(file_path)\n",
    "\n",
    "df_grouped = df.groupby(['Category', 'Year']).sum()\n",
    "\n",
    "\n",
    "df_pivot = df_grouped.pivot_table(values='Sales', index='Year', columns='Category')\n",
    "\n",
    "df_pivot.plot(kind='bar', stacked=True)\n",
    "\n",
    "plt.xlabel('Year')\n",
    "plt.ylabel('Sales')\n",
    "plt.title('Sales of Product Categories Over Time')\n",
    "plt.legend(title='Category')\n",
    "plt.show()"
   ]
  },
  {
   "cell_type": "markdown",
   "id": "f30005fe-d0c0-462c-b7b8-486bcb3c4562",
   "metadata": {},
   "source": [
    "## Ans 11)"
   ]
  },
  {
   "cell_type": "code",
   "execution_count": null,
   "id": "0f125a60-6d23-4f11-a8d4-a41180dce350",
   "metadata": {},
   "outputs": [],
   "source": [
    "import pandas as pd\n",
    "\n",
    "\n",
    "file_path = input(\"Enter the file path of the CSV file containing the student data: \")\n",
    "\n",
    "df = pd.read_csv(file_path)\n",
    "\n",
    "\n",
    "mean_score = df['Test Score'].mean()\n",
    "median_score = df['Test Score'].median()\n",
    "mode_scores = df['Test Score'].mode()\n",
    "\n",
    "table = pd.DataFrame({\n",
    "    'Statistic': ['Mean', 'Median', 'Mode'],\n",
    "    'Value': [mean_score, median_score, ', '.join(map(str, mode_scores))]\n",
    "})\n",
    "\n",
    "print(table)\n"
   ]
  }
 ],
 "metadata": {
  "kernelspec": {
   "display_name": "Python 3 (ipykernel)",
   "language": "python",
   "name": "python3"
  },
  "language_info": {
   "codemirror_mode": {
    "name": "ipython",
    "version": 3
   },
   "file_extension": ".py",
   "mimetype": "text/x-python",
   "name": "python",
   "nbconvert_exporter": "python",
   "pygments_lexer": "ipython3",
   "version": "3.10.8"
  }
 },
 "nbformat": 4,
 "nbformat_minor": 5
}
