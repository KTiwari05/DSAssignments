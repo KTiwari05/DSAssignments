{
 "cells": [
  {
   "cell_type": "code",
   "execution_count": 2,
   "id": "d772b74b-5b2a-4a9c-91d6-8c5ff2b26359",
   "metadata": {},
   "outputs": [],
   "source": [
    "import numpy as np\n",
    "list_ = [ '1','2','3','4','5']\n",
    "array_list = np.array(object = list_)"
   ]
  },
  {
   "cell_type": "markdown",
   "id": "f67ca300-7ba4-42ff-8015-bfd883629030",
   "metadata": {},
   "source": [
    "## Ans1)"
   ]
  },
  {
   "cell_type": "code",
   "execution_count": 3,
   "id": "bf89c8da-87c8-41d2-93fd-3349f6bb1c51",
   "metadata": {},
   "outputs": [
    {
     "name": "stdout",
     "output_type": "stream",
     "text": [
      "<class 'list'>\n",
      "<class 'numpy.ndarray'>\n"
     ]
    }
   ],
   "source": [
    "print(type(list_))\n",
    "print(type(array_list))"
   ]
  },
  {
   "cell_type": "markdown",
   "id": "bd929859-fd07-4d16-b5b9-b3ce08fd78e4",
   "metadata": {},
   "source": [
    "## Ans2)"
   ]
  },
  {
   "cell_type": "code",
   "execution_count": 5,
   "id": "5c092211-6a5c-408c-8633-507d6ffd7449",
   "metadata": {},
   "outputs": [
    {
     "name": "stdout",
     "output_type": "stream",
     "text": [
      "<class 'str'>\n",
      "<class 'str'>\n",
      "<class 'str'>\n",
      "<class 'str'>\n",
      "<class 'str'>\n",
      "for array_list\n",
      "<class 'str'>\n",
      "<class 'str'>\n",
      "<class 'str'>\n",
      "<class 'str'>\n",
      "<class 'str'>\n"
     ]
    }
   ],
   "source": [
    "for element in list_:\n",
    "    print(type(element))\n",
    "print(\"for array_list\")\n",
    "for element in np.nditer(array_list):\n",
    "    print(type(element.item()))"
   ]
  },
  {
   "cell_type": "markdown",
   "id": "4aa996cb-7255-4a94-ac7a-aa682dbc3541",
   "metadata": {},
   "source": [
    "## Ans3)"
   ]
  },
  {
   "cell_type": "code",
   "execution_count": 6,
   "id": "5cefcd1f-2277-4f5b-b81a-e484285f7b01",
   "metadata": {},
   "outputs": [],
   "source": [
    "array_list = np.array(object = list_, dtype = int)"
   ]
  },
  {
   "cell_type": "code",
   "execution_count": 9,
   "id": "66013ace-5b39-44e1-8735-92a2f37176af",
   "metadata": {},
   "outputs": [
    {
     "name": "stdout",
     "output_type": "stream",
     "text": [
      "<class 'str'>\n",
      "<class 'str'>\n",
      "<class 'str'>\n",
      "<class 'str'>\n",
      "<class 'str'>\n",
      "<class 'int'>\n",
      "<class 'int'>\n",
      "<class 'int'>\n",
      "<class 'int'>\n",
      "<class 'int'>\n"
     ]
    }
   ],
   "source": [
    "\n",
    "for element in list_:\n",
    "    print(type(element))\n",
    "\n",
    "# Print data type of each element in array_list\n",
    "for element in np.nditer(array_list):\n",
    "    print(type(element.item()))"
   ]
  },
  {
   "cell_type": "code",
   "execution_count": 11,
   "id": "415e0468-bf55-417f-bae1-572e21c6ee61",
   "metadata": {},
   "outputs": [],
   "source": [
    "import numpy as np\n",
    "num_list = [ [ 1 , 2 , 3 ] , [ 4 , 5 , 6 ] ]\n",
    "num_array = np.array(object = num_list)"
   ]
  },
  {
   "cell_type": "markdown",
   "id": "a5eeae4f-69ce-444d-b353-612d22eab85c",
   "metadata": {},
   "source": [
    "## Ans 4)"
   ]
  },
  {
   "cell_type": "code",
   "execution_count": 15,
   "id": "d37f8f1b-b147-485a-9069-4317bd91b310",
   "metadata": {},
   "outputs": [
    {
     "data": {
      "text/plain": [
       "(2, 3)"
      ]
     },
     "execution_count": 15,
     "metadata": {},
     "output_type": "execute_result"
    }
   ],
   "source": [
    "num_array.shape"
   ]
  },
  {
   "cell_type": "code",
   "execution_count": 16,
   "id": "e6f60698-0dec-466b-88ed-d5db528d22e8",
   "metadata": {},
   "outputs": [
    {
     "data": {
      "text/plain": [
       "6"
      ]
     },
     "execution_count": 16,
     "metadata": {},
     "output_type": "execute_result"
    }
   ],
   "source": [
    "num_array.size"
   ]
  },
  {
   "cell_type": "markdown",
   "id": "4111c9d9-a2c2-4b64-8c9e-ba2364e7b7f3",
   "metadata": {},
   "source": [
    "## Ans5)"
   ]
  },
  {
   "cell_type": "code",
   "execution_count": 17,
   "id": "02719d13-316d-4234-9fd8-e72196e5b619",
   "metadata": {},
   "outputs": [],
   "source": [
    "arr = np.zeros((3,3))"
   ]
  },
  {
   "cell_type": "code",
   "execution_count": 18,
   "id": "5c95f840-9493-4642-92fe-0bccde72ecdd",
   "metadata": {},
   "outputs": [
    {
     "data": {
      "text/plain": [
       "array([[0., 0., 0.],\n",
       "       [0., 0., 0.],\n",
       "       [0., 0., 0.]])"
      ]
     },
     "execution_count": 18,
     "metadata": {},
     "output_type": "execute_result"
    }
   ],
   "source": [
    "arr"
   ]
  },
  {
   "cell_type": "markdown",
   "id": "3a18bfb1-5f8d-4bed-ac74-e394615c7990",
   "metadata": {},
   "source": [
    "## Ans 6)"
   ]
  },
  {
   "cell_type": "code",
   "execution_count": 19,
   "id": "cfa8d5c0-c9f3-4afa-bebb-ed9e994237bb",
   "metadata": {},
   "outputs": [],
   "source": [
    "arr = np.eye(5)"
   ]
  },
  {
   "cell_type": "code",
   "execution_count": 20,
   "id": "f51d581c-f10d-4325-9008-0751302f453b",
   "metadata": {},
   "outputs": [
    {
     "data": {
      "text/plain": [
       "array([[1., 0., 0., 0., 0.],\n",
       "       [0., 1., 0., 0., 0.],\n",
       "       [0., 0., 1., 0., 0.],\n",
       "       [0., 0., 0., 1., 0.],\n",
       "       [0., 0., 0., 0., 1.]])"
      ]
     },
     "execution_count": 20,
     "metadata": {},
     "output_type": "execute_result"
    }
   ],
   "source": [
    "arr"
   ]
  },
  {
   "cell_type": "code",
   "execution_count": null,
   "id": "1dc505ab-fa94-4ffd-8543-f0f2504099dc",
   "metadata": {},
   "outputs": [],
   "source": []
  }
 ],
 "metadata": {
  "kernelspec": {
   "display_name": "Python 3 (ipykernel)",
   "language": "python",
   "name": "python3"
  },
  "language_info": {
   "codemirror_mode": {
    "name": "ipython",
    "version": 3
   },
   "file_extension": ".py",
   "mimetype": "text/x-python",
   "name": "python",
   "nbconvert_exporter": "python",
   "pygments_lexer": "ipython3",
   "version": "3.10.8"
  }
 },
 "nbformat": 4,
 "nbformat_minor": 5
}
