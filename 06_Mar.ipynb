{
 "cells": [
  {
   "cell_type": "markdown",
   "id": "bcdc2f76-b5c9-4751-ae1f-cb965b7371f9",
   "metadata": {},
   "source": [
    "## Ans 1)"
   ]
  },
  {
   "cell_type": "code",
   "execution_count": 1,
   "id": "1a5e3395-4cde-4c99-8d6c-acf8e1072567",
   "metadata": {},
   "outputs": [],
   "source": [
    "# Statistics is the science of collecting , organizing and analyzing data"
   ]
  },
  {
   "cell_type": "markdown",
   "id": "d0d0a01e-542c-4a4d-b74c-c5515909fe99",
   "metadata": {},
   "source": [
    "## Ans 2)"
   ]
  },
  {
   "cell_type": "code",
   "execution_count": 2,
   "id": "09b2394c-62f2-4b40-96b8-7e5abcc1bac0",
   "metadata": {},
   "outputs": [],
   "source": [
    "# there are 2 types of statistics \n",
    "# 1) Descriptive : It is used in measuring of central tendency and organizing and summarizing of data , and dispersion of data\n",
    "# 2) Inferential : It consist of using data you have measured to form conclusion. z-test, p-test etc.\n"
   ]
  },
  {
   "cell_type": "markdown",
   "id": "27e8b7f6-da80-4b6a-85ae-3edc1c9382b1",
   "metadata": {},
   "source": [
    "## Ans 3)"
   ]
  },
  {
   "cell_type": "code",
   "execution_count": 3,
   "id": "f1d72834-8d51-407b-ab56-fa7a23e2eda6",
   "metadata": {},
   "outputs": [],
   "source": [
    "# Numerical Data (Quantitative Data):\n",
    "# Numerical data represents measurable quantities and is expressed in numerical form. It can be further categorized into discrete and continuous data.\n",
    "\n",
    "# Example:\n",
    "# Discrete Data: The number of students in a classroom (e.g., 25 students).\n",
    "# Continuous Data: Temperature readings (e.g., 25.5 degrees Celsius).\n",
    "# Categorical Data (Qualitative Data):\n",
    "# Categorical data represents characteristics or qualities and is typically divided into categories. It cannot be measured on a numerical scale.\n",
    "\n",
    "# Example:\n",
    "# Nominal Data: Colors of cars (e.g., red, blue, green).\n",
    "# Ordinal Data: Educational levels (e.g., high school, bachelor's, master's, PhD)."
   ]
  },
  {
   "cell_type": "markdown",
   "id": "64329cbb-c343-4517-be4c-7d615aa94634",
   "metadata": {},
   "source": [
    "## Ans 4)"
   ]
  },
  {
   "cell_type": "code",
   "execution_count": 4,
   "id": "edc07eb5-6ab7-43b2-8a68-68ec4872ce46",
   "metadata": {},
   "outputs": [],
   "source": [
    "# (i) Grading in exam: A+, A, B+, B, C+, C, D, E\n",
    "#     Qualitative (Ordinal)\n",
    "\n",
    "# (ii) Colour of mangoes: yellow, green, orange, red\n",
    "#     Qualitative (Nominal)\n",
    "\n",
    "# (iii) Height data of a class: [178.9, 179, 179.5, 176, 177.2, 178.3, 175.8,...]\n",
    "#    Quantitative (Continuous)\n",
    "\n",
    "# (iv) Number of mangoes exported by a farm: [500, 600, 478, 672, ...]\n",
    "#    Quantitative (Discrete)"
   ]
  },
  {
   "cell_type": "markdown",
   "id": "bdbc9b87-e0f1-44ce-8a24-94dcd0d4cd52",
   "metadata": {},
   "source": [
    "## Ans 5)\n"
   ]
  },
  {
   "cell_type": "code",
   "execution_count": 5,
   "id": "7f16b822-90f6-475f-8fa6-2094c97977f7",
   "metadata": {},
   "outputs": [],
   "source": [
    "# The concept of levels of measurement, also known as data measurement scales, refers to the different ways data can be categorized and measured. \n",
    "# These levels help us understand the nature and properties of the data, which in turn determine the types of statistical analyses that can be applied.\n",
    "\n",
    "# Nominal Level:\n",
    "# At the nominal level, data is categorized into distinct categories or classes without any inherent order.\n",
    "\n",
    "# Ordinal Level:\n",
    "# The ordinal level of measurement involves data that can be ordered or ranked, but the differences between the categories are not uniform or meaningful. \n",
    "\n",
    "# Interval Level:\n",
    "# At the interval level, data is measured on a numerical scale with equal intervals between values.\n",
    "#  However, there is no true zero point, and ratios between values are not meaningful.\n",
    "\n",
    "#Ratio Level:\n",
    "# The ratio level of measurement is similar to the interval level but has a true zero point, allowing meaningful ratios between values."
   ]
  },
  {
   "cell_type": "markdown",
   "id": "d4d0c4ac-69b5-493e-b4a7-f909245cda68",
   "metadata": {},
   "source": [
    "## Ans 6)"
   ]
  },
  {
   "cell_type": "code",
   "execution_count": null,
   "id": "49e6b278-7d70-4460-bc5b-efe6375612f0",
   "metadata": {},
   "outputs": [],
   "source": [
    "Understanding the level of measurement in data analysis is important because:\n",
    "\n",
    "It determines the appropriate statistical methods to be used.\n",
    "Different levels have distinct properties that affect data interpretation.\n",
    "Using the wrong level can lead to inaccurate conclusions.\n",
    "It helps avoid inappropriate arithmetic operations on data.\n",
    "It guides the choice of graphs and visualizations for data representation.\n"
   ]
  },
  {
   "cell_type": "markdown",
   "id": "6645a495-0eb1-4844-9b6c-9d9dd762616e",
   "metadata": {},
   "source": [
    "## Ans 7)"
   ]
  },
  {
   "cell_type": "code",
   "execution_count": null,
   "id": "8152052f-e371-4255-8838-fd06cae61c70",
   "metadata": {},
   "outputs": [],
   "source": [
    "Nominal data:\n",
    "- Represents categories or labels without any inherent order or ranking.\n",
    "- Examples: Eye color (blue, brown, green), car brands (Toyota, Ford, Honda).\n",
    "\n",
    "Ordinal data:\n",
    "- Represents categories or labels with a specific order or ranking.\n",
    "- The differences between categories are not necessarily equal or quantifiable.\n",
    "- Examples: Educational levels (high school, bachelor's, master's, PhD), survey responses (strongly agree, agree, neutral, disagree, strongly disagree)."
   ]
  },
  {
   "cell_type": "markdown",
   "id": "b91d0df3-c339-4524-8faa-d1c450b8a3ec",
   "metadata": {},
   "source": [
    "## Ans 8)"
   ]
  },
  {
   "cell_type": "code",
   "execution_count": null,
   "id": "2d29d67f-0cdc-404f-a3d3-7ac260df338f",
   "metadata": {},
   "outputs": [],
   "source": [
    "A box plot (also known as a box-and-whisker plot) is commonly used to display data in terms of range.\n",
    "The box plot provides a visual representation of the distribution of data and displays the range, quartiles, and potential outliers."
   ]
  },
  {
   "cell_type": "markdown",
   "id": "943816d7-fea0-48dd-a18e-d294fec32e4c",
   "metadata": {},
   "source": [
    "## Ans 9)"
   ]
  },
  {
   "cell_type": "code",
   "execution_count": null,
   "id": "6ae2e900-abbe-403f-9e8e-aa94d3f14de4",
   "metadata": {},
   "outputs": [],
   "source": [
    "Descriptive Statistics:\n",
    "\n",
    "Summarizes and describes data characteristics.\n",
    "Example: Mean height, standard deviation, and histograms.\n",
    "Inferential Statistics:\n",
    "\n",
    "Draws conclusions or predictions about a larger population from a sample.\n",
    "Example: Estimating the population mean based on a sample mean using confidence intervals."
   ]
  },
  {
   "cell_type": "markdown",
   "id": "61518d80-1d9e-4a06-a150-cb9c899b91cf",
   "metadata": {},
   "source": [
    "## Ans 10)"
   ]
  },
  {
   "cell_type": "code",
   "execution_count": null,
   "id": "bd5b6cd7-8bc7-4e69-b40f-99c21cd2367b",
   "metadata": {},
   "outputs": [],
   "source": [
    "**Measures of Central Tendency**:\n",
    "- Mean: Arithmetic average, sensitive to extreme values.\n",
    "- Median: Middle value, resistant to extreme values.\n",
    "- Mode: Most frequently occurring value, useful for categorical data.\n",
    "\n",
    "**Measures of Variability**:\n",
    "- Range: Difference between max and min values, simple but crude measure.\n",
    "- Variance: Average squared deviation from the mean, sensitive to outliers.\n",
    "- Standard Deviation: Square root of variance, interpretable in original units."
   ]
  }
 ],
 "metadata": {
  "kernelspec": {
   "display_name": "Python 3 (ipykernel)",
   "language": "python",
   "name": "python3"
  },
  "language_info": {
   "codemirror_mode": {
    "name": "ipython",
    "version": 3
   },
   "file_extension": ".py",
   "mimetype": "text/x-python",
   "name": "python",
   "nbconvert_exporter": "python",
   "pygments_lexer": "ipython3",
   "version": "3.10.8"
  }
 },
 "nbformat": 4,
 "nbformat_minor": 5
}
